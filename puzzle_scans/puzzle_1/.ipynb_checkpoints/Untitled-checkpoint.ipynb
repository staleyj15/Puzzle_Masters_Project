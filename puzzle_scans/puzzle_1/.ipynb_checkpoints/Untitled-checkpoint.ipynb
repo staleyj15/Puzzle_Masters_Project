{
 "cells": [
  {
   "cell_type": "code",
   "execution_count": 1,
   "metadata": {},
   "outputs": [
    {
     "ename": "ModuleNotFoundError",
     "evalue": "No module named 'ImgPrep'",
     "output_type": "error",
     "traceback": [
      "\u001b[0;31m---------------------------------------------------------------------------\u001b[0m",
      "\u001b[0;31mModuleNotFoundError\u001b[0m                       Traceback (most recent call last)",
      "\u001b[0;32m<ipython-input-1-7cca273267e7>\u001b[0m in \u001b[0;36m<module>\u001b[0;34m\u001b[0m\n\u001b[0;32m----> 1\u001b[0;31m \u001b[0;32mfrom\u001b[0m \u001b[0mImgPrep\u001b[0m \u001b[0;32mimport\u001b[0m \u001b[0mfile_names\u001b[0m\u001b[0;34m,\u001b[0m \u001b[0mread_img\u001b[0m\u001b[0;34m,\u001b[0m \u001b[0mreshape_array\u001b[0m\u001b[0;34m,\u001b[0m \u001b[0msplit_img\u001b[0m\u001b[0;34m,\u001b[0m \u001b[0mdisplay_img\u001b[0m\u001b[0;34m\u001b[0m\u001b[0;34m\u001b[0m\u001b[0m\n\u001b[0m\u001b[1;32m      2\u001b[0m \u001b[0;32mimport\u001b[0m \u001b[0mnumpy\u001b[0m \u001b[0;32mas\u001b[0m \u001b[0mnp\u001b[0m\u001b[0;34m\u001b[0m\u001b[0;34m\u001b[0m\u001b[0m\n\u001b[1;32m      3\u001b[0m \u001b[0;34m\u001b[0m\u001b[0m\n\u001b[1;32m      4\u001b[0m \u001b[0;31m# list of files to read in\u001b[0m\u001b[0;34m\u001b[0m\u001b[0;34m\u001b[0m\u001b[0;34m\u001b[0m\u001b[0m\n\u001b[1;32m      5\u001b[0m \u001b[0mfiles\u001b[0m \u001b[0;34m=\u001b[0m \u001b[0mfile_names\u001b[0m\u001b[0;34m(\u001b[0m\u001b[0;34m'puzzle_scans/puzzle_1'\u001b[0m\u001b[0;34m)\u001b[0m\u001b[0;34m\u001b[0m\u001b[0;34m\u001b[0m\u001b[0m\n",
      "\u001b[0;31mModuleNotFoundError\u001b[0m: No module named 'ImgPrep'"
     ]
    }
   ],
   "source": [
    "from ImgPrep import file_names, read_img, reshape_array, split_img, display_img\n",
    "import numpy as np\n",
    "\n",
    "# list of files to read in\n",
    "files = file_names('puzzle_scans/puzzle_1')\n",
    "pictures = []\n",
    "pic_arrays = []\n",
    "\n",
    "for picture in files:\n",
    "    \n",
    "    # store picture as array\n",
    "    pic = read_img(picture)\n",
    "\n",
    "    # split each image into 20 pieces\n",
    "    pieces = split_img(pic, 5, 4)\n",
    "    pictures += pieces\n",
    "    assert all([piece.shape for piece in pieces]), 'All arrays are not the same size'\n",
    "    \n",
    "for piece in pictures:\n",
    "    flat_pic = reshape_array(piece)\n",
    "    pic_arrays.append(flat_pic)"
   ]
  },
  {
   "cell_type": "code",
   "execution_count": null,
   "metadata": {},
   "outputs": [],
   "source": []
  }
 ],
 "metadata": {
  "kernelspec": {
   "display_name": "Python 3",
   "language": "python",
   "name": "python3"
  },
  "language_info": {
   "codemirror_mode": {
    "name": "ipython",
    "version": 3
   },
   "file_extension": ".py",
   "mimetype": "text/x-python",
   "name": "python",
   "nbconvert_exporter": "python",
   "pygments_lexer": "ipython3",
   "version": "3.7.6"
  }
 },
 "nbformat": 4,
 "nbformat_minor": 4
}
