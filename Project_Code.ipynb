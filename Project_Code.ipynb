{
 "cells": [
  {
   "cell_type": "code",
   "execution_count": 5,
   "metadata": {},
   "outputs": [],
   "source": [
    "from ImgPrep import file_names, read_img, reshape_array, split_img, display_img\n",
    "import numpy as np\n",
    "\n",
    "# list of files to read in\n",
    "files = file_names('puzzle_scans/puzzle_1')\n",
    "pictures = []\n",
    "pic_arrays = []\n",
    "\n",
    "for picture in files:\n",
    "    \n",
    "    # store picture as array\n",
    "    pic = read_img(picture)\n",
    "\n",
    "    # split each image into 20 pieces\n",
    "    pieces = split_img(pic, 5, 4)\n",
    "    pictures += pieces\n",
    "    assert all([piece.shape for piece in pieces]), 'All arrays are not the same size'\n",
    "\n",
    "    # split each piece into n by n parts\n",
    "    n = 3\n",
    "\n",
    "    # split each piece into quarters\n",
    "    chopped = []\n",
    "    for piece in pieces:\n",
    "        chopped.append(split_img(piece, n, n))    \n",
    "    assert all([part.shape for piece in chopped for part in piece]), \\\n",
    "    'All parts of all pieces are not the same size'\n",
    "\n",
    "    # reshape arrays and find average RGB value of each part of each piece    \n",
    "    avg_rgb = np.zeros((len(chopped), n**2, 3))\n",
    "    for i,piece in enumerate(chopped):\n",
    "        for ii,part in enumerate(piece):\n",
    "                chopped[i][ii] = reshape_array(part)\n",
    "                avg_rgb[i,ii,:] = np.mean(chopped[i][ii], axis = 0)\n",
    "    \n",
    "    pic_arrays.append(avg_rgb)\n",
    "\n",
    "# combine all pictures into one large array for clustering\n",
    "pic_arrays = np.vstack(pic_arrays)\n",
    "assert pic_arrays.shape == (300, n**2, 3), \\\n",
    "f'Output array should be size (300,{n**2},3) but is actually size {pic_arrays.shape}'"
   ]
  }
 ],
 "metadata": {
  "kernelspec": {
   "display_name": "Python 3",
   "language": "python",
   "name": "python3"
  },
  "language_info": {
   "codemirror_mode": {
    "name": "ipython",
    "version": 3
   },
   "file_extension": ".py",
   "mimetype": "text/x-python",
   "name": "python",
   "nbconvert_exporter": "python",
   "pygments_lexer": "ipython3",
   "version": "3.7.6"
  }
 },
 "nbformat": 4,
 "nbformat_minor": 4
}
