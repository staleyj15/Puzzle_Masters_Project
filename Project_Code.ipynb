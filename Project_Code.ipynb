{
 "cells": [
  {
   "cell_type": "code",
   "execution_count": 19,
   "metadata": {},
   "outputs": [],
   "source": [
    "from PIL import Image\n",
    "import numpy as np\n",
    "import math\n",
    "import matplotlib.pyplot as plt\n",
    "import os\n",
    "import re\n",
    "\n",
    "def file_names(directory):\n",
    "    paths = os.listdir('puzzle_scans/puzzle_1')\n",
    "    return [directory + '/' + file for file in paths if re.search('.jpg', file) is not None]\n",
    "\n",
    "def read_img(img_path):\n",
    "    img = Image.open(img_path)\n",
    "    img_array = np.array(img, dtype='int32')\n",
    "    img.close()\n",
    "    return img_array\n",
    "\n",
    "def reshape_array(arr):\n",
    "    return np.reshape(arr, (arr.shape[0] * arr.shape[1], arr.shape[2]), order = 'C')\n",
    "\n",
    "def display_img(array):\n",
    "    arr = array.astype(dtype='uint8')\n",
    "    img = Image.fromarray(arr, 'RGB')\n",
    "    plt.figure()\n",
    "    plt.imshow(np.asarray(img))\n",
    "\n",
    "def split_img(arr, nrow, ncol):\n",
    "    \n",
    "    def find_splits(shape, num):\n",
    "        split = math.floor(shape / num)\n",
    "        return [split * i for i in range(1,num)]\n",
    "    \n",
    "    def equal_pixels(list_arr, ax):\n",
    "        extra = list_arr[-1].shape[ax] - list_arr[0].shape[ax] + 1\n",
    "        rem_indx = [list_arr[-1].shape[ax] - n for n in reversed(range(1, extra))]\n",
    "        replace = np.delete(list_arr[-1], rem_indx, axis = ax)\n",
    "        list_arr.pop(-1)\n",
    "        return list_arr + [replace]\n",
    "    \n",
    "    pieces = []\n",
    "    rows = equal_pixels(np.split(arr, find_splits(arr.shape[0], nrow)), 0)\n",
    "    \n",
    "    for row in rows:\n",
    "        cols = equal_pixels(np.split(row, find_splits(row.shape[1], ncol), axis = 1), 1)\n",
    "        pieces += cols\n",
    "    \n",
    "    return pieces"
   ]
  },
  {
   "cell_type": "code",
   "execution_count": 20,
   "metadata": {},
   "outputs": [
    {
     "data": {
      "text/plain": [
       "(300, 9, 3)"
      ]
     },
     "execution_count": 20,
     "metadata": {},
     "output_type": "execute_result"
    }
   ],
   "source": [
    "# list of files to read in\n",
    "files = file_names('puzzle_scans/puzzle_1')\n",
    "all_pics = []\n",
    "\n",
    "for picture in files:\n",
    "    \n",
    "    # store picture as array\n",
    "    pic = read_img(picture)\n",
    "\n",
    "    # split each image into 20 pieces\n",
    "    pieces = split_img(pic, 5, 4)\n",
    "    assert all([piece.shape for piece in pieces]), 'All arrays are not the same size'\n",
    "\n",
    "    # split each piece into n by n parts\n",
    "    n = 3\n",
    "\n",
    "    # split each piece into quarters\n",
    "    chopped = []\n",
    "    for piece in pieces:\n",
    "        chopped.append(split_img(piece, n, n))    \n",
    "    assert all([part.shape for piece in chopped for part in piece]), \\\n",
    "    'All parts of all pieces are not the same size'\n",
    "\n",
    "    # reshape arrays and find average RGB value of each part of each piece    \n",
    "    avg_rgb = np.zeros((len(chopped), n**2, 3))\n",
    "    for i,piece in enumerate(chopped):\n",
    "        for ii,part in enumerate(piece):\n",
    "                chopped[i][ii] = reshape_array(part)\n",
    "                avg_rgb[i,ii,:] = np.mean(chopped[i][ii], axis = 0)\n",
    "    \n",
    "    all_pics.append(avg_rgb)\n",
    "\n",
    "# combine all pictures into one large array for clustering\n",
    "all_pics = np.vstack(all_pics)\n",
    "assert all_pics.shape == (300, n**2, 3), \\\n",
    "f'Output array should be size (300,{n**2},3) but is actually size {all_pics.shape}'"
   ]
  }
 ],
 "metadata": {
  "kernelspec": {
   "display_name": "Python 3",
   "language": "python",
   "name": "python3"
  },
  "language_info": {
   "codemirror_mode": {
    "name": "ipython",
    "version": 3
   },
   "file_extension": ".py",
   "mimetype": "text/x-python",
   "name": "python",
   "nbconvert_exporter": "python",
   "pygments_lexer": "ipython3",
   "version": "3.7.6"
  }
 },
 "nbformat": 4,
 "nbformat_minor": 4
}
