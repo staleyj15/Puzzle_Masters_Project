{
 "cells": [
  {
   "cell_type": "code",
   "execution_count": 2,
   "metadata": {},
   "outputs": [
    {
     "name": "stdout",
     "output_type": "stream",
     "text": [
      "Best parameters for KMeans model: {'algorithm': 'elkan', 'n_clusters': 14}\n"
     ]
    }
   ],
   "source": [
    "from ImgPrep import file_names, read_img, reshape_array, split_img\n",
    "from ImgCluster import process_all_pics, cluster_pixels, cluster_pieces\n",
    "from Funcs4Testing import display_cluster_imgs, display_img, img_scatter\n",
    "from sklearn.decomposition import PCA\n",
    "from sklearn.manifold import Isomap\n",
    "import joblib\n",
    "import numpy as np\n",
    "\n",
    "# list of files to read in\n",
    "files = file_names('puzzle_scans/puzzle_1')\n",
    "pictures = []\n",
    "pic_avg_rgb = []\n",
    "pic_arrays = []\n",
    "\n",
    "for picture in files:\n",
    "    \n",
    "    # store picture as array\n",
    "    pic = read_img(picture)\n",
    "\n",
    "    # split each image into 20 pieces\n",
    "    pieces = split_img(pic, 5, 4)\n",
    "    pictures += pieces\n",
    "    assert all([piece.shape for piece in pieces]), 'All arrays are not the same size'\n",
    "\n",
    "########## Method 1: Find Avg RGB values of each sector of puzzle piece\n",
    "#----------------------------------------------------------------------\n",
    "# split each piece into n by n parts\n",
    "    n = 3\n",
    "\n",
    "    # split each piece into quarters\n",
    "    chopped = []\n",
    "    for piece in pieces:\n",
    "        chopped.append(split_img(piece, n, n))    \n",
    "    assert all([part.shape for piece in chopped for part in piece]), \\\n",
    "    'All parts of all pieces are not the same size'\n",
    "\n",
    "    # reshape arrays and find average RGB value of each part of each piece    \n",
    "    avg_rgb = np.zeros((len(chopped), n**2, 3))\n",
    "    for i,piece in enumerate(chopped):\n",
    "        for ii,part in enumerate(piece):\n",
    "                chopped[i][ii] = reshape_array(part, starting_dim = len(part.shape))\n",
    "                avg_rgb[i,ii,:] = np.mean(chopped[i][ii], axis = 0)\n",
    "    \n",
    "    pic_avg_rgb.append(avg_rgb)\n",
    "\n",
    "# combine all pictures into one large array for clustering\n",
    "pic_avg_rgb = np.vstack(pic_avg_rgb)\n",
    "assert pic_avg_rgb.shape == (300, n**2, 3), \\\n",
    "f'Output array should be size (300,{n**2},3) but is actually size {pic_avg_rgb.shape}'"
   ]
  },
  {
   "cell_type": "code",
   "execution_count": null,
   "metadata": {},
   "outputs": [],
   "source": [
    "########## Method 2: Find RGB values of cluster centers for each puzzle piece\n",
    "#----------------------------------------------------------------------\n",
    "# reshape arrays for clustering and find average RGB of total puzzle piece\n",
    "total_avg_rgb = np.zeros(len(pictures),3)\n",
    "for indx,piece in enumerate(pictures):\n",
    "    flat_pic = reshape_array(piece, starting_dim = len(piece.shape))\n",
    "    total_avg_rgb[indx,:] = np.mean(flat_pic, axis = 0)\n",
    "    pic_arrays.append(flat_pic)\n",
    "\n",
    "# filter out scanner background \n",
    "# filtered_pixels = process_all_pics(pic_arrays)\n",
    "filtered_pixels = joblib.load('pickle_files/filtered_pixels.pkl')\n",
    "\n",
    "# find n clusters in each puzzle piece and flatten \n",
    "# pic_centers = cluster_pixels(pixels = filtered_pixels, n_clusters = 3)\n",
    "pic_centers = joblib.load('pickle_files/pic_centers.pkl')\n",
    "centers_flattened = np.zeros((len(pic_centers), pic_centers[0].shape[0] * pic_centers[0].shape[1]))\n",
    "for indx, pic in enumerate(pic_centers):\n",
    "    centers_flattened[indx,:] = reshape_array(pic, starting_dim = len(pic.shape))\n",
    "\n",
    "# bind features together for final clustering of pieces\n",
    "feature_set = np.concatenate((total_avg_rgb, centers_flattened), axis = 1)\n",
    "\n",
    "# perform Isomap clustering on final feature set\n",
    "iso_model = Isomap(n_components = 2).fit_transform(feature_set)\n",
    "\n",
    "# visual check of kmeans clusters\n",
    "display_cluster_imgs(pictures, km_model.labels_, 1)\n",
    "\n",
    "# visual check of isomap clusters\n",
    "img_scatter(iso_model, pictures, 25)"
   ]
  },
  {
   "cell_type": "code",
   "execution_count": null,
   "metadata": {},
   "outputs": [],
   "source": [
    "########## Method 3: Use PCA to shrink pieces to 2 dimensional array and perform ISOMAP clustering\n",
    "#----------------------------------------------------------------------\n",
    "# compress images with PCA\n",
    "# pics_compressed = np.zeros((len(pic_arrays), pic_arrays[0].shape[0]))\n",
    "# for indx,pic in enumerate(pic_arrays):\n",
    "#     pca = PCA(n_components = 1)\n",
    "#     components = pca.fit(pic).components_\n",
    "#     pics_compressed[indx,:] = pic.dot(components.T).reshape(pic.shape[0])\n",
    "pics_compressed = joblib.load('pickle_files/pics_compressed.pkl')\n",
    "    \n",
    "# cluster compressed images with ISOMAP clustering\n",
    "# iso_pics = Isomap(n_components = 2).fit_transform(pics_compressed)\n",
    "iso_pics = joblib.load('pickle_files/iso_pics.pkl')\n",
    "\n",
    "# visual check of isomap clusters\n",
    "img_scatter(iso_pics, pictures, 25)"
   ]
  }
 ],
 "metadata": {
  "kernelspec": {
   "display_name": "Python 3",
   "language": "python",
   "name": "python3"
  },
  "language_info": {
   "codemirror_mode": {
    "name": "ipython",
    "version": 3
   },
   "file_extension": ".py",
   "mimetype": "text/x-python",
   "name": "python",
   "nbconvert_exporter": "python",
   "pygments_lexer": "ipython3",
   "version": "3.7.6"
  }
 },
 "nbformat": 4,
 "nbformat_minor": 4
}
